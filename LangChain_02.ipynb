{
  "nbformat": 4,
  "nbformat_minor": 0,
  "metadata": {
    "colab": {
      "provenance": [],
      "toc_visible": true,
      "authorship_tag": "ABX9TyMuqjt/rV39M05K4pJnbNC7",
      "include_colab_link": true
    },
    "kernelspec": {
      "name": "python3",
      "display_name": "Python 3"
    },
    "language_info": {
      "name": "python"
    }
  },
  "cells": [
    {
      "cell_type": "markdown",
      "metadata": {
        "id": "view-in-github",
        "colab_type": "text"
      },
      "source": [
        "<a href=\"https://colab.research.google.com/github/chengwen-zheng/openAi-lab/blob/main/LangChain_02.ipynb\" target=\"_parent\"><img src=\"https://colab.research.google.com/assets/colab-badge.svg\" alt=\"Open In Colab\"/></a>"
      ]
    },
    {
      "cell_type": "markdown",
      "source": [
        "# ChatGPT不会算算术\n"
      ],
      "metadata": {
        "id": "4D0dG-OelL1w"
      }
    },
    {
      "cell_type": "code",
      "source": [
        "%pip install langchain\n",
        "%pip install openai\n",
        "%pip install tiktoken\n",
        "%pip install faiss-cpu\n",
        "\n",
        "\n",
        "!python -m spacy download zh_core_web_sm\n",
        "\n",
        "\n",
        "from googleapiclient.discovery import build\n",
        "from pydrive.auth import GoogleAuth\n",
        "from pydrive.drive import GoogleDrive\n",
        "from google.colab import auth\n",
        "from oauth2client.client import GoogleCredentials\n",
        "import io\n",
        "import json\n",
        "import os\n",
        "import openai\n",
        "\n",
        "# Authenticate and create the PyDrive client.\n",
        "# This only needs to be done once per notebook.\n",
        "auth.authenticate_user()\n",
        "\n",
        "# Build the Drive API client\n",
        "drive_service = build('drive', 'v3')\n",
        "file_id = '14x1k7ErttIPXRcKN53g_Ogn3zfn6AEM_'\n",
        "file = drive_service.files().get(fileId=file_id).execute()\n",
        "content = drive_service.files().get_media(fileId=file_id).execute()\n",
        "\n",
        "# Read the env config.json. set env for OPENAI_API_KEY\n",
        "with io.BytesIO(content) as f:\n",
        "    config = json.load(f)\n",
        "os.environ[\"OPENAI_API_KEY\"] = config[\"api_key\"];\n",
        "openai.api_key = os.environ[\"OPENAI_API_KEY\"] ;"
      ],
      "metadata": {
        "colab": {
          "base_uri": "https://localhost:8080/"
        },
        "id": "OYn8s6C6lQD4",
        "outputId": "73902368-6465-4845-ca31-a3c72c82e587"
      },
      "execution_count": 21,
      "outputs": [
        {
          "output_type": "stream",
          "name": "stdout",
          "text": [
            "Looking in indexes: https://pypi.org/simple, https://us-python.pkg.dev/colab-wheels/public/simple/\n",
            "Requirement already satisfied: langchain in /usr/local/lib/python3.10/dist-packages (0.0.162)\n",
            "Requirement already satisfied: pydantic<2,>=1 in /usr/local/lib/python3.10/dist-packages (from langchain) (1.10.7)\n",
            "Requirement already satisfied: PyYAML>=5.4.1 in /usr/local/lib/python3.10/dist-packages (from langchain) (6.0)\n",
            "Requirement already satisfied: numpy<2,>=1 in /usr/local/lib/python3.10/dist-packages (from langchain) (1.22.4)\n",
            "Requirement already satisfied: dataclasses-json<0.6.0,>=0.5.7 in /usr/local/lib/python3.10/dist-packages (from langchain) (0.5.7)\n",
            "Requirement already satisfied: numexpr<3.0.0,>=2.8.4 in /usr/local/lib/python3.10/dist-packages (from langchain) (2.8.4)\n",
            "Requirement already satisfied: requests<3,>=2 in /usr/local/lib/python3.10/dist-packages (from langchain) (2.27.1)\n",
            "Requirement already satisfied: async-timeout<5.0.0,>=4.0.0 in /usr/local/lib/python3.10/dist-packages (from langchain) (4.0.2)\n",
            "Requirement already satisfied: tqdm>=4.48.0 in /usr/local/lib/python3.10/dist-packages (from langchain) (4.65.0)\n",
            "Requirement already satisfied: tenacity<9.0.0,>=8.1.0 in /usr/local/lib/python3.10/dist-packages (from langchain) (8.2.2)\n",
            "Requirement already satisfied: aiohttp<4.0.0,>=3.8.3 in /usr/local/lib/python3.10/dist-packages (from langchain) (3.8.4)\n",
            "Requirement already satisfied: openapi-schema-pydantic<2.0,>=1.2 in /usr/local/lib/python3.10/dist-packages (from langchain) (1.2.4)\n",
            "Requirement already satisfied: SQLAlchemy<3,>=1.4 in /usr/local/lib/python3.10/dist-packages (from langchain) (2.0.10)\n",
            "Requirement already satisfied: frozenlist>=1.1.1 in /usr/local/lib/python3.10/dist-packages (from aiohttp<4.0.0,>=3.8.3->langchain) (1.3.3)\n",
            "Requirement already satisfied: charset-normalizer<4.0,>=2.0 in /usr/local/lib/python3.10/dist-packages (from aiohttp<4.0.0,>=3.8.3->langchain) (2.0.12)\n",
            "Requirement already satisfied: attrs>=17.3.0 in /usr/local/lib/python3.10/dist-packages (from aiohttp<4.0.0,>=3.8.3->langchain) (23.1.0)\n",
            "Requirement already satisfied: aiosignal>=1.1.2 in /usr/local/lib/python3.10/dist-packages (from aiohttp<4.0.0,>=3.8.3->langchain) (1.3.1)\n",
            "Requirement already satisfied: multidict<7.0,>=4.5 in /usr/local/lib/python3.10/dist-packages (from aiohttp<4.0.0,>=3.8.3->langchain) (6.0.4)\n",
            "Requirement already satisfied: yarl<2.0,>=1.0 in /usr/local/lib/python3.10/dist-packages (from aiohttp<4.0.0,>=3.8.3->langchain) (1.9.2)\n",
            "Requirement already satisfied: marshmallow<4.0.0,>=3.3.0 in /usr/local/lib/python3.10/dist-packages (from dataclasses-json<0.6.0,>=0.5.7->langchain) (3.19.0)\n",
            "Requirement already satisfied: typing-inspect>=0.4.0 in /usr/local/lib/python3.10/dist-packages (from dataclasses-json<0.6.0,>=0.5.7->langchain) (0.8.0)\n",
            "Requirement already satisfied: marshmallow-enum<2.0.0,>=1.5.1 in /usr/local/lib/python3.10/dist-packages (from dataclasses-json<0.6.0,>=0.5.7->langchain) (1.5.1)\n",
            "Requirement already satisfied: typing-extensions>=4.2.0 in /usr/local/lib/python3.10/dist-packages (from pydantic<2,>=1->langchain) (4.5.0)\n",
            "Requirement already satisfied: certifi>=2017.4.17 in /usr/local/lib/python3.10/dist-packages (from requests<3,>=2->langchain) (2022.12.7)\n",
            "Requirement already satisfied: urllib3<1.27,>=1.21.1 in /usr/local/lib/python3.10/dist-packages (from requests<3,>=2->langchain) (1.26.15)\n",
            "Requirement already satisfied: idna<4,>=2.5 in /usr/local/lib/python3.10/dist-packages (from requests<3,>=2->langchain) (3.4)\n",
            "Requirement already satisfied: greenlet!=0.4.17 in /usr/local/lib/python3.10/dist-packages (from SQLAlchemy<3,>=1.4->langchain) (2.0.2)\n",
            "Requirement already satisfied: packaging>=17.0 in /usr/local/lib/python3.10/dist-packages (from marshmallow<4.0.0,>=3.3.0->dataclasses-json<0.6.0,>=0.5.7->langchain) (23.1)\n",
            "Requirement already satisfied: mypy-extensions>=0.3.0 in /usr/local/lib/python3.10/dist-packages (from typing-inspect>=0.4.0->dataclasses-json<0.6.0,>=0.5.7->langchain) (1.0.0)\n",
            "Looking in indexes: https://pypi.org/simple, https://us-python.pkg.dev/colab-wheels/public/simple/\n",
            "Requirement already satisfied: openai in /usr/local/lib/python3.10/dist-packages (0.27.6)\n",
            "Requirement already satisfied: tqdm in /usr/local/lib/python3.10/dist-packages (from openai) (4.65.0)\n",
            "Requirement already satisfied: requests>=2.20 in /usr/local/lib/python3.10/dist-packages (from openai) (2.27.1)\n",
            "Requirement already satisfied: aiohttp in /usr/local/lib/python3.10/dist-packages (from openai) (3.8.4)\n",
            "Requirement already satisfied: urllib3<1.27,>=1.21.1 in /usr/local/lib/python3.10/dist-packages (from requests>=2.20->openai) (1.26.15)\n",
            "Requirement already satisfied: certifi>=2017.4.17 in /usr/local/lib/python3.10/dist-packages (from requests>=2.20->openai) (2022.12.7)\n",
            "Requirement already satisfied: idna<4,>=2.5 in /usr/local/lib/python3.10/dist-packages (from requests>=2.20->openai) (3.4)\n",
            "Requirement already satisfied: charset-normalizer~=2.0.0 in /usr/local/lib/python3.10/dist-packages (from requests>=2.20->openai) (2.0.12)\n",
            "Requirement already satisfied: aiosignal>=1.1.2 in /usr/local/lib/python3.10/dist-packages (from aiohttp->openai) (1.3.1)\n",
            "Requirement already satisfied: frozenlist>=1.1.1 in /usr/local/lib/python3.10/dist-packages (from aiohttp->openai) (1.3.3)\n",
            "Requirement already satisfied: async-timeout<5.0,>=4.0.0a3 in /usr/local/lib/python3.10/dist-packages (from aiohttp->openai) (4.0.2)\n",
            "Requirement already satisfied: yarl<2.0,>=1.0 in /usr/local/lib/python3.10/dist-packages (from aiohttp->openai) (1.9.2)\n",
            "Requirement already satisfied: multidict<7.0,>=4.5 in /usr/local/lib/python3.10/dist-packages (from aiohttp->openai) (6.0.4)\n",
            "Requirement already satisfied: attrs>=17.3.0 in /usr/local/lib/python3.10/dist-packages (from aiohttp->openai) (23.1.0)\n"
          ]
        }
      ]
    },
    {
      "cell_type": "code",
      "execution_count": null,
      "metadata": {
        "colab": {
          "base_uri": "https://localhost:8080/"
        },
        "id": "MNLfIrmPlF1-",
        "outputId": "e94c1705-4636-4f6a-f034-90e759e606ba"
      },
      "outputs": [
        {
          "output_type": "stream",
          "name": "stdout",
          "text": [
            "OpenAI API 说答案是: \n",
            "\n",
            "352 x 493 = 173936\n",
            "Python 说答案是: 173536\n"
          ]
        }
      ],
      "source": [
        "import openai, os\n",
        "\n",
        "openai.api_key = os.environ.get(\"OPENAI_API_KEY\")\n",
        "\n",
        "from langchain.prompts import PromptTemplate\n",
        "from langchain.llms import OpenAI\n",
        "from langchain.chains import LLMChain\n",
        "\n",
        "\n",
        "llm = OpenAI(model_name=\"text-davinci-003\", max_tokens=2048, temperature=0.5)\n",
        "multiply_prompt = PromptTemplate(template=\"请计算一下{question}是多少?\", input_variables=[\"question\"])\n",
        "math_chain = LLMChain(llm=llm, prompt=multiply_prompt, output_key=\"answer\")\n",
        "answer = math_chain.run({\"question\": \"352乘以493\"})\n",
        "print(\"OpenAI API 说答案是:\", answer)\n",
        "\n",
        "python_answer = 352 * 493\n",
        "print(\"Python 说答案是:\", python_answer)"
      ]
    },
    {
      "cell_type": "code",
      "source": [
        "multiply_by_python_prompt = PromptTemplate(template=\"请写一段Python代码，计算{question}?\", input_variables=[\"question\"])\n",
        "math_chain = LLMChain(llm=llm, prompt=multiply_by_python_prompt, output_key=\"answer\")\n",
        "answer = math_chain.run({\"question\": \"352乘以493\"})\n",
        "print(answer)"
      ],
      "metadata": {
        "colab": {
          "base_uri": "https://localhost:8080/"
        },
        "id": "zwpcbppel0tv",
        "outputId": "e5043bd9-7181-43ab-b749-6081a5889541"
      },
      "execution_count": null,
      "outputs": [
        {
          "output_type": "stream",
          "name": "stdout",
          "text": [
            "\n",
            "\n",
            "print(352 * 493)\n"
          ]
        }
      ]
    },
    {
      "cell_type": "code",
      "source": [
        "multiply_by_python_prompt = PromptTemplate(template=\"请写一段Python代码，计算{question}?\", input_variables=[\"question\"])\n",
        "math_chain = LLMChain(llm=llm, prompt=multiply_by_python_prompt, output_key=\"answer\")\n",
        "answer_code = math_chain.run({\"question\": \"352乘以493\"})\n",
        "\n",
        "from langchain.utilities import PythonREPL\n",
        "python_repl = PythonREPL()\n",
        "result = python_repl.run(answer_code)\n",
        "print(result)"
      ],
      "metadata": {
        "colab": {
          "base_uri": "https://localhost:8080/"
        },
        "id": "FPkSdIF6l3jY",
        "outputId": "09ac7291-cbc7-4fa0-fb4e-89377fe1e93e"
      },
      "execution_count": null,
      "outputs": [
        {
          "output_type": "stream",
          "name": "stdout",
          "text": [
            "173536\n",
            "\n"
          ]
        }
      ]
    },
    {
      "cell_type": "markdown",
      "source": [
        "# 通过LLMMathChain算算术\n"
      ],
      "metadata": {
        "id": "5rNUcCHamEhl"
      }
    },
    {
      "cell_type": "code",
      "source": [
        "from langchain import LLMMathChain\n",
        "\n",
        "llm_math = LLMMathChain(llm=llm, verbose=True)\n",
        "result = llm_math.run(\"请计算一下352乘以493是多少?\")\n",
        "print(result)"
      ],
      "metadata": {
        "colab": {
          "base_uri": "https://localhost:8080/"
        },
        "id": "4JFsP0cGmXPL",
        "outputId": "935df3dc-b22f-4d7b-e497-766f93689da2"
      },
      "execution_count": null,
      "outputs": [
        {
          "output_type": "stream",
          "name": "stderr",
          "text": [
            "/usr/local/lib/python3.10/dist-packages/langchain/chains/llm_math/base.py:50: UserWarning: Directly instantiating an LLMMathChain with an llm is deprecated. Please instantiate with llm_chain argument or using the from_llm class method.\n",
            "  warnings.warn(\n"
          ]
        },
        {
          "output_type": "stream",
          "name": "stdout",
          "text": [
            "\n",
            "\n",
            "\u001b[1m> Entering new LLMMathChain chain...\u001b[0m\n",
            "请计算一下352乘以493是多少?\u001b[32;1m\u001b[1;3m\n",
            "```text\n",
            "352 * 493\n",
            "```\n",
            "...numexpr.evaluate(\"352 * 493\")...\n",
            "\u001b[0m\n",
            "Answer: \u001b[33;1m\u001b[1;3m173536\u001b[0m\n",
            "\u001b[1m> Finished chain.\u001b[0m\n",
            "Answer: 173536\n"
          ]
        }
      ]
    },
    {
      "cell_type": "markdown",
      "source": [
        "# 通过Google搜索查天气"
      ],
      "metadata": {
        "id": "qD9L-8MAmfsY"
      }
    },
    {
      "cell_type": "code",
      "source": [
        "from langchain.chains import LLMRequestsChain\n",
        "\n",
        "template = \"\"\"在 >>> 和 <<< 直接是来自Google的原始搜索结果.\n",
        "请把对于问题 '{query}' 的答案从里面提取出来，如果里面没有相关信息的话就说 \"找不到\"\n",
        "请使用如下格式：\n",
        "Extracted:<answer or \"找不到\">\n",
        ">>> {requests_result} <<<\n",
        "Extracted:\"\"\"\n",
        "\n",
        "PROMPT = PromptTemplate(\n",
        "    input_variables=[\"query\", \"requests_result\"],\n",
        "    template=template,\n",
        ")\n",
        "requests_chain = LLMRequestsChain(llm_chain = LLMChain(llm=OpenAI(temperature=0), prompt=PROMPT))\n",
        "question = \"怎么样购买腾讯股票？\"\n",
        "inputs = {\n",
        "    \"query\": question,\n",
        "    \"url\": \"https://www.google.com/search?q=\" + question.replace(\" \", \"+\")\n",
        "}\n",
        "result=requests_chain(inputs)\n",
        "print(result)\n",
        "print(result['output'])"
      ],
      "metadata": {
        "colab": {
          "base_uri": "https://localhost:8080/"
        },
        "id": "VfZC85zjmhay",
        "outputId": "5c6592e4-a589-4979-c37a-a477c0a6084d"
      },
      "execution_count": 18,
      "outputs": [
        {
          "output_type": "stream",
          "name": "stdout",
          "text": [
            "{'query': '怎么样购买腾讯股票？', 'url': 'https://www.google.com/search?q=怎么样购买腾讯股票？', 'output': '首先腾讯控股是港股。 有两种方式可以买到。 第一在你的股票账户里开通港股通，但是有门槛要求，要连续20个交易日以上持有50万市值才可以开通。 第二：直接开通港股。'}\n",
            "首先腾讯控股是港股。 有两种方式可以买到。 第一在你的股票账户里开通港股通，但是有门槛要求，要连续20个交易日以上持有50万市值才可以开通。 第二：直接开通港股。\n"
          ]
        }
      ]
    },
    {
      "cell_type": "markdown",
      "source": [
        "# 通过TransformChain运行自定义函数"
      ],
      "metadata": {
        "id": "qkh48x-mmsRa"
      }
    },
    {
      "cell_type": "code",
      "source": [
        "import re\n",
        "\n",
        "def parse_weather_info(weather_info)->dict:\n",
        "    # 将天气信息拆分成不同部分\n",
        "    parts = weather_info.split('; ')\n",
        "    print(parts)\n",
        "    # 解析天气\n",
        "    weather = parts[0].strip()\n",
        "\n",
        "    # 解析温度范围，并提取最小和最大温度\n",
        "    temperature_range = parts[1].strip().replace('℃', '').split('～')\n",
        "    print(temperature_range)\n",
        "    temperature_min = int(temperature_range[0])\n",
        "    temperature_max = int(temperature_range[1])\n",
        "\n",
        "    # 解析风向和风力\n",
        "    wind_parts = parts[2].split(' ')\n",
        "    wind_direction = wind_parts[0].strip()\n",
        "    wind_force = wind_parts[1].strip()\n",
        "    weather_dict = {\n",
        "        'weather': weather,\n",
        "        'temperature': {\n",
        "            'min': temperature_min,\n",
        "            'max': temperature_max,\n",
        "        },\n",
        "        'wind': {\n",
        "            'direction': wind_direction,\n",
        "            'level': wind_force\n",
        "        }\n",
        "    }\n",
        "    return weather_dict\n",
        "\n",
        "# today the weather is changeed, so the format is incorrect. so params of weather is fixed.\n",
        "weather_dict = parse_weather_info(\"小雨; 10℃～15℃; 东北风 风力4-5级\")\n",
        "print(weather_dict)"
      ],
      "metadata": {
        "colab": {
          "base_uri": "https://localhost:8080/"
        },
        "id": "kqpWa7ZDmt76",
        "outputId": "f962bd2e-0de6-434b-fc42-2a91b7f123e1"
      },
      "execution_count": null,
      "outputs": [
        {
          "output_type": "stream",
          "name": "stdout",
          "text": [
            "['小雨', '10℃～15℃', '东北风 风力4-5级']\n",
            "['10', '15']\n",
            "{'weather': '小雨', 'temperature': {'min': 10, 'max': 15}, 'wind': {'direction': '东北风', 'level': '风力4-5级'}}\n"
          ]
        }
      ]
    },
    {
      "cell_type": "code",
      "source": [
        "from langchain.chains import TransformChain, SequentialChain\n",
        "\n",
        "def transform_func(inputs: dict) -> dict:\n",
        "    \n",
        "    text =\"小雨; 10℃～15℃; 东北风 风力4-5级\"\n",
        "    return {\"weather_info\" : parse_weather_info(text)}\n",
        "\n",
        "transformation_chain = TransformChain(input_variables=[\"output\"], \n",
        "                                      output_variables=[\"weather_info\"], transform=transform_func)\n",
        "\n",
        "final_chain = SequentialChain(chains=[requests_chain, transformation_chain], \n",
        "                              input_variables=[\"query\", \"url\"], output_variables=[\"weather_info\"])\n",
        "final_result = final_chain.run(inputs)"
      ],
      "metadata": {
        "colab": {
          "base_uri": "https://localhost:8080/"
        },
        "id": "713yxaRzos-_",
        "outputId": "30160dee-c0b3-4b5c-97ea-115d0be1bacc"
      },
      "execution_count": null,
      "outputs": [
        {
          "output_type": "stream",
          "name": "stdout",
          "text": [
            "['小雨', '10℃～15℃', '东北风 风力4-5级']\n",
            "['10', '15']\n"
          ]
        }
      ]
    },
    {
      "cell_type": "markdown",
      "source": [
        "# 通过VectorDBQA做问答"
      ],
      "metadata": {
        "id": "_9adYlmlpVxz"
      }
    },
    {
      "cell_type": "code",
      "source": [
        "page_content = '''Q: 如何注册新帐户？\n",
        "A: 点击网站右上角的“注册”按钮，然后按照提示填写相关信息并设置密码。完成后，您将收到一封验证电子邮件。点击邮件中的链接以激活您的帐户。\n",
        "\n",
        "Q: 忘记密码怎么办？\n",
        "A: 点击登录页面的“忘记密码”链接，输入您的电子邮件地址。我们将向您发送一封包含重置密码链接的邮件。请点击链接并按照提示操作。\n",
        "\n",
        "Q: 如何更改帐户信息？\n",
        "A: 登录您的帐户，然后点击“我的帐户”以更改个人信息、收货地址等。\n",
        "\n",
        "Q: 如何下订单？\n",
        "A: 浏览商品并将想要购买的商品加入购物车。当您准备结算时，点击购物车图标，然后选择送货地址、付款方式和物流方式。确认订单详情后，点击“提交订单”。\n",
        "\n",
        "Q: 支持哪些支付方式？\n",
        "A: 我们支持支付宝、微信支付、银联在线支付、信用卡支付等多种支付方式。\n",
        "\n",
        "Q: 如何查看订单状态？\n",
        "A: 登录您的帐户，点击“我的订单”，在此页面上，您可以查看所有订单及其当前状态。\n",
        "\n",
        "Q: 如何取消订单？\n",
        "A: 在订单发货前，您可以登录帐户，进入“我的订单”页面取消订单。如果订单已发货，您需要联系客服协助处理。\n",
        "\n",
        "Q: 如何申请退款？\n",
        "A: 登录帐户，进入“我的订单”页面，选择要退款的订单并点击“申请退款”。请按照页面提示填写退款理由和退款金额。提交申请后，我们将在1-3个工作日内处理您的请求。\n",
        "\n",
        "Q: 退货政策是什么？\n",
        "A: 自收到商品之日起7天内，如产品未使用、包装完好，您可以申请退货。某些特殊商品可能不支持退货，请在购买前查看商品详情页面的退货政策。\n",
        "\n",
        "Q: 退款会退回到哪里？\n",
        "A: 退款将原路退回至您的支付帐户。\n",
        "\n",
        "Q: 支持哪些省份配送？\n",
        "A: 我们支持全国大部分省份的配送，包括北京、上海、天津、重庆、河北、山西、辽宁、吉林、黑龙江、江苏、浙江、安徽、福建、江西、山东、河南、湖北、湖南、广东、海南、四川、贵州、云南、陕西、甘肃、青海、台湾、内蒙古、广西、西藏、宁夏和新疆\n",
        "\n",
        "Q: 物流时效是多久？\n",
        "A: 一般情况下，大部分城市的订单在2-3个工作日内送达，偏远地区可能需要5-7个工作日。具体送货时间可能因订单商品、配送地址和物流公司而异。\n",
        "\n",
        "Q: 如何查询物流信息？\n",
        "A: 在订单发货后，您可以在“我的订单”页面查看物流单号。点击相应订单的“查看物流”按钮，输入物流单号查询物流详情。\n",
        "\n",
        "Q: 提供哪些快递公司的服务？\n",
        "A: 我们与顺丰速运、圆通速递、申通快递、韵达快递、中通快递、百世快递等多家知名快递公司合作。\n",
        "\n",
        "Q: 如何更改收货地址？\n",
        "A: 在订单发货前，您可以登录帐户，进入“我的订单”页面，选择要修改的订单并点击“修改地址”。如果订单已发货，您需要联系客服协助处理。\n",
        "\n",
        "Q: 如何查询发票信息？\n",
        "A: 登录您的帐户，进入“我的发票”页面。在此页面上，您可以查看已开具的发票及其详细信息。\n",
        "\n",
        "Q: 如何申请开具发票？\n",
        "A: 在提交订单时，您可以选择需要发票，并填写相关发票信息。您还可以在订单完成后登录帐户，进入“我的发票”页面，点击“申请发票”按钮并填写发票信息。\n",
        "\n",
        "Q: 提供哪些类型的发票？\n",
        "A: 我们提供普通发票和增值税专用发票。具体发票类型请参考订单页面或联系客服咨询。\n",
        "\n",
        "Q: 为什么我的订单被取消？\n",
        "A: 订单可能因库存不足、支付异常、用户要求等原因被取消。如有疑问，请联系客服咨询。\n",
        "\n",
        "Q: 如何参加促销活动？\n",
        "A: 关注我们的官方网站和社交媒体账号，我们会定期发布优惠券、折扣码和特价商品信息。您还可以在购物车页面直接查看适用于您订单的优惠活动。\n",
        "\n",
        "Q: 如何使用优惠券？\n",
        "A: 在购物车页面，输入优惠券代码后，点击“应用”。优惠券折扣将自动应用于您的订单。\n",
        "\n",
        "Q: 优惠券有使用限制吗？\n",
        "A: 优惠券可能有最低消费要求、有效期限制或特定商品范围。使用前请查看优惠券详情。'''"
      ],
      "metadata": {
        "id": "yBAmfkxp1D1T"
      },
      "execution_count": 32,
      "outputs": []
    },
    {
      "cell_type": "code",
      "source": [
        "\n",
        "import zh_core_web_sm\n",
        "nlp = zh_core_web_sm.load()\n",
        "from langchain.embeddings.openai import OpenAIEmbeddings\n",
        "from langchain.vectorstores import FAISS\n",
        "from langchain.text_splitter import SpacyTextSplitter\n",
        "from langchain import OpenAI, VectorDBQA\n",
        "\n",
        "llm = OpenAI(temperature=0)\n",
        "text_splitter = SpacyTextSplitter(chunk_size=256, pipeline=\"zh_core_web_sm\")\n",
        "texts = text_splitter.create_documents(texts=page_content)\n",
        "\n",
        "embeddings = OpenAIEmbeddings()\n",
        "docsearch = FAISS.from_documents(texts, embeddings)\n",
        "\n",
        "faq_chain = VectorDBQA.from_chain_type(llm=llm, vectorstore=docsearch, verbose=True)"
      ],
      "metadata": {
        "id": "9_U_bUF4pZEm"
      },
      "execution_count": 41,
      "outputs": []
    },
    {
      "cell_type": "code",
      "source": [
        "question = \"请问你们的货，能送到三亚吗？大概需要几天？\"\n",
        "result = faq_chain.run(question)\n",
        "print(result)"
      ],
      "metadata": {
        "colab": {
          "base_uri": "https://localhost:8080/"
        },
        "id": "EajOETO63-SU",
        "outputId": "a6c9f5d0-f03e-48b3-ca71-6ffec4f10cfd"
      },
      "execution_count": 42,
      "outputs": [
        {
          "output_type": "stream",
          "name": "stdout",
          "text": [
            "\n",
            "\n",
            "\u001b[1m> Entering new VectorDBQA chain...\u001b[0m\n",
            "\n",
            "\u001b[1m> Finished chain.\u001b[0m\n",
            " 是的，我们的货可以送到三亚。大概需要3-5天。\n"
          ]
        }
      ]
    },
    {
      "cell_type": "code",
      "source": [
        "question = \"请问你们的退货政策是怎么样的？\" \n",
        "result = faq_chain.run(question)\n",
        "print(result)"
      ],
      "metadata": {
        "colab": {
          "base_uri": "https://localhost:8080/"
        },
        "id": "y-atLA1v4I6w",
        "outputId": "af6d39c9-a1c8-4a18-9896-28c28a1417c5"
      },
      "execution_count": 43,
      "outputs": [
        {
          "output_type": "stream",
          "name": "stdout",
          "text": [
            "\n",
            "\n",
            "\u001b[1m> Entering new VectorDBQA chain...\u001b[0m\n",
            "\n",
            "\u001b[1m> Finished chain.\u001b[0m\n",
            " 我不知道，但是您可以通过电子邮件联系我们的客服团队来了解更多信息。\n"
          ]
        }
      ]
    }
  ]
}