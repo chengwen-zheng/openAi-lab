{
 "cells": [
  {
   "cell_type": "code",
   "execution_count": null,
   "id": "34a88a18-1d33-4a2c-933a-587e6d0c4a15",
   "metadata": {},
   "outputs": [],
   "source": [
    "!conda install gensim\n",
    "!conda install fasttext"
   ]
  },
  {
   "cell_type": "code",
   "execution_count": null,
   "id": "5d46456d-02b6-4b30-8cea-2e89747cddf5",
   "metadata": {},
   "outputs": [],
   "source": [
    "# Fasttext效果测试"
   ]
  },
  {
   "cell_type": "code",
   "execution_count": 1,
   "id": "f38df4f1-810f-4317-8b3e-fecaab092a83",
   "metadata": {},
   "outputs": [
    {
     "name": "stderr",
     "output_type": "stream",
     "text": [
      "'wget' 不是内部或外部命令，也不是可运行的程序\n",
      "或批处理文件。\n"
     ]
    }
   ],
   "source": [
    "!wget https://dl.fbaipublicfiles.com/fasttext/vectors-crawl/cc.en.300.bin.gz"
   ]
  },
  {
   "cell_type": "code",
   "execution_count": null,
   "id": "6b9c6019-f228-420d-81b7-1d987234ba3a",
   "metadata": {},
   "outputs": [],
   "source": [
    "!gunzip ./cc.en.300.bin.gz"
   ]
  }
 ],
 "metadata": {
  "kernelspec": {
   "display_name": "Python 3 (ipykernel)",
   "language": "python",
   "name": "python3"
  },
  "language_info": {
   "codemirror_mode": {
    "name": "ipython",
    "version": 3
   },
   "file_extension": ".py",
   "mimetype": "text/x-python",
   "name": "python",
   "nbconvert_exporter": "python",
   "pygments_lexer": "ipython3",
   "version": "3.10.9"
  }
 },
 "nbformat": 4,
 "nbformat_minor": 5
}
